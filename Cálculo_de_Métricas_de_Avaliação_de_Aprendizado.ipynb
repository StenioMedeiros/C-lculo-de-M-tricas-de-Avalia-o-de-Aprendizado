{
  "nbformat": 4,
  "nbformat_minor": 0,
  "metadata": {
    "colab": {
      "provenance": [],
      "authorship_tag": "ABX9TyMuwVQ0WV1TMiWa9Z0q+XZy",
      "include_colab_link": true
    },
    "kernelspec": {
      "name": "python3",
      "display_name": "Python 3"
    },
    "language_info": {
      "name": "python"
    }
  },
  "cells": [
    {
      "cell_type": "markdown",
      "metadata": {
        "id": "view-in-github",
        "colab_type": "text"
      },
      "source": [
        "<a href=\"https://colab.research.google.com/github/StenioMedeiros/C-lculo-de-M-tricas-de-Avalia-o-de-Aprendizado/blob/main/C%C3%A1lculo_de_M%C3%A9tricas_de_Avalia%C3%A7%C3%A3o_de_Aprendizado.ipynb\" target=\"_parent\"><img src=\"https://colab.research.google.com/assets/colab-badge.svg\" alt=\"Open In Colab\"/></a>"
      ]
    },
    {
      "cell_type": "code",
      "execution_count": 1,
      "metadata": {
        "colab": {
          "base_uri": "https://localhost:8080/"
        },
        "id": "QGTmrGK5gUo7",
        "outputId": "d5b67b3e-bae5-4b78-c3ec-187d3804c28c"
      },
      "outputs": [
        {
          "output_type": "stream",
          "name": "stdout",
          "text": [
            "Sensibilidade (Recall): 0.91\n",
            "Especificidade: 0.80\n",
            "Acurácia: 0.86\n",
            "Precisão: 0.83\n",
            "F-score: 0.87\n"
          ]
        }
      ],
      "source": [
        "# Definir a matriz de confusão\n",
        "VP = 50  # Verdadeiros Positivos\n",
        "VN = 40  # Verdadeiros Negativos\n",
        "FP = 10  # Falsos Positivos\n",
        "FN = 5   # Falsos Negativos\n",
        "\n",
        "# Calcular o total de elementos\n",
        "N = VP + VN + FP + FN\n",
        "\n",
        "# Funções para calcular as métricas\n",
        "def calcular_sensibilidade(VP, FN):\n",
        "    return VP / (VP + FN)\n",
        "\n",
        "def calcular_especificidade(VN, FP):\n",
        "    return VN / (VN + FP)\n",
        "\n",
        "def calcular_acuracia(VP, VN, N):\n",
        "    return (VP + VN) / N\n",
        "\n",
        "def calcular_precisao(VP, FP):\n",
        "    return VP / (VP + FP)\n",
        "\n",
        "def calcular_fscore(precisao, sensibilidade):\n",
        "    return 2 * (precisao * sensibilidade) / (precisao + sensibilidade)\n",
        "\n",
        "# Calcular as métricas\n",
        "sensibilidade = calcular_sensibilidade(VP, FN)\n",
        "especificidade = calcular_especificidade(VN, FP)\n",
        "acuracia = calcular_acuracia(VP, VN, N)\n",
        "precisao = calcular_precisao(VP, FP)\n",
        "fscore = calcular_fscore(precisao, sensibilidade)\n",
        "\n",
        "# Exibir os resultados\n",
        "print(f\"Sensibilidade (Recall): {sensibilidade:.2f}\")\n",
        "print(f\"Especificidade: {especificidade:.2f}\")\n",
        "print(f\"Acurácia: {acuracia:.2f}\")\n",
        "print(f\"Precisão: {precisao:.2f}\")\n",
        "print(f\"F-score: {fscore:.2f}\")"
      ]
    }
  ]
}